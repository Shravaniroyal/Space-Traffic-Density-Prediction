{
  "cells": [
    {
      "cell_type": "markdown",
      "metadata": {
        "id": "yAXX5F650ClI"
      },
      "source": [
        "#Hyperparameter Tuning\n",
        "\n"
      ]
    },
    {
      "cell_type": "code",
      "execution_count": 1,
      "metadata": {
        "id": "UDK_Iwk3wdpb"
      },
      "outputs": [],
      "source": [
        "from sklearn.model_selection import train_test_split, GridSearchCV\n",
        "from sklearn.ensemble import RandomForestRegressor\n",
        "from sklearn.metrics import mean_squared_error, r2_score\n",
        "import pandas as pd\n",
        "import matplotlib.pyplot as plt\n",
        "import seaborn as sns"
      ]
    },
    {
      "cell_type": "code",
      "execution_count": 2,
      "metadata": {
        "id": "KEi1Q4Ouwkf3"
      },
      "outputs": [],
      "source": [
        "import pandas as pd\n",
        "import warnings\n",
        "import numpy as np\n",
        "\n",
        "warnings.filterwarnings(\"ignore\")\n",
        "data=pd.read_csv('space_traffic.csv')"
      ]
    },
    {
      "cell_type": "markdown",
      "metadata": {
        "id": "dPUSLh1n0KIX"
      },
      "source": [
        "##Data Loading and Preprocessing"
      ]
    },
    {
      "cell_type": "code",
      "execution_count": 3,
      "metadata": {
        "id": "3qir7YXtw1Ek"
      },
      "outputs": [],
      "source": [
        "encoded_data = pd.get_dummies(data, columns=['Location', 'Object_Type'], drop_first=True)\n",
        "\n",
        "# Features and target selection\n",
        "X = encoded_data.drop(['Timestamp', 'Traffic_Density', 'Peak_Time'], axis=1)\n",
        "y = encoded_data['Traffic_Density']\n"
      ]
    },
    {
      "cell_type": "markdown",
      "metadata": {
        "id": "VYwZaxYCyvd5"
      },
      "source": [
        "Loads the dataset.\n",
        "\n",
        "Encodes categorical features (Location and Object_Type) into numerical values using one-hot encoding.\n",
        "\n",
        "Splits data into features (X) and target (y), excluding unnecessary columns."
      ]
    },
    {
      "cell_type": "code",
      "execution_count": 4,
      "metadata": {
        "id": "rumE4u6Bw6Qh"
      },
      "outputs": [],
      "source": [
        "# Splitting the dataset\n",
        "X_train, X_test, y_train, y_test = train_test_split(X, y, test_size=0.2, random_state=42)"
      ]
    },
    {
      "cell_type": "markdown",
      "metadata": {
        "id": "OLJ4vq1A0UU4"
      },
      "source": [
        "##Model Definition and Hyperparameter Tuning"
      ]
    },
    {
      "cell_type": "code",
      "execution_count": 5,
      "metadata": {
        "id": "5j6Do3cEw82j"
      },
      "outputs": [],
      "source": [
        "# Define the model\n",
        "model = RandomForestRegressor(random_state=42)\n",
        "\n",
        "# Define hyperparameters to tune\n",
        "param_grid = {\n",
        "    'n_estimators': [10, 50, 100],\n",
        "    'max_depth': [None, 10, 20],\n",
        "    'min_samples_split': [2, 5, 10]\n",
        "}"
      ]
    },
    {
      "cell_type": "markdown",
      "metadata": {
        "id": "x7jEyArKy2fl"
      },
      "source": [
        "Defines the grid of hyperparameters for RandomForestRegressor.\n",
        "\n",
        "Uses GridSearchCV for 5-fold cross-validation to find the best parameters."
      ]
    },
    {
      "cell_type": "code",
      "execution_count": 6,
      "metadata": {
        "colab": {
          "base_uri": "https://localhost:8080/"
        },
        "id": "-nO55G8-xAh1",
        "outputId": "a3b714a1-d27d-4353-b6cd-afc3afbac97f"
      },
      "outputs": [
        {
          "output_type": "stream",
          "name": "stdout",
          "text": [
            "Best Parameters: {'max_depth': None, 'min_samples_split': 2, 'n_estimators': 50}\n"
          ]
        }
      ],
      "source": [
        "# Perform GridSearchCV\n",
        "grid_search = GridSearchCV(estimator=model, param_grid=param_grid, cv=5, scoring='neg_mean_squared_error')\n",
        "grid_search.fit(X_train, y_train)\n",
        "\n",
        "# Get the best parameters\n",
        "best_params = grid_search.best_params_\n",
        "print(\"Best Parameters:\", best_params)\n"
      ]
    },
    {
      "cell_type": "markdown",
      "metadata": {
        "id": "VHzph1ZC0YpM"
      },
      "source": [
        "##Model Evaluation"
      ]
    },
    {
      "cell_type": "code",
      "execution_count": 7,
      "metadata": {
        "colab": {
          "base_uri": "https://localhost:8080/"
        },
        "id": "d2VE_IIwxD-c",
        "outputId": "ab8e21d5-c71b-4946-9379-9c4bc0b1c7d7"
      },
      "outputs": [
        {
          "output_type": "stream",
          "name": "stdout",
          "text": [
            "Mean Squared Error on Test Data: 858.6944364124571\n",
            "R^2 Score on Test Data: -0.07236859798225193\n"
          ]
        }
      ],
      "source": [
        "# Evaluate the model\n",
        "best_model = grid_search.best_estimator_\n",
        "y_pred = best_model.predict(X_test)\n",
        "mse = mean_squared_error(y_test, y_pred)\n",
        "r2 = r2_score(y_test, y_pred)\n",
        "print(\"Mean Squared Error on Test Data:\", mse)\n",
        "print(\"R^2 Score on Test Data:\", r2)"
      ]
    },
    {
      "cell_type": "markdown",
      "metadata": {
        "id": "xPuO6bICy8e4"
      },
      "source": [
        "Retrieves the best model's parameters.\n",
        "\n",
        "Predicts traffic density using the test set.\n",
        "\n",
        "Evaluates the model using Mean Squared Error (MSE) and\n",
        "𝑅\n",
        "2\n",
        "R\n",
        "2\n",
        "  score."
      ]
    },
    {
      "cell_type": "code",
      "execution_count": 8,
      "metadata": {
        "colab": {
          "base_uri": "https://localhost:8080/"
        },
        "id": "jmB-xiztxpTg",
        "outputId": "b0df1be1-1555-42dd-eec1-27db8e9d6671"
      },
      "outputs": [
        {
          "output_type": "stream",
          "name": "stdout",
          "text": [
            "Feature Importances:\n",
            "                          Feature  Importance\n",
            "8       Object_Type_Space Debris    0.119826\n",
            "6          Object_Type_Satellite    0.112931\n",
            "2             Location_Orbit GEO    0.112748\n",
            "1   Location_Mars Transfer Orbit    0.106814\n",
            "9      Object_Type_Space Station    0.103271\n",
            "3             Location_Orbit LEO    0.102247\n",
            "5  Object_Type_Manned Spacecraft    0.100292\n",
            "4             Location_Orbit MEO    0.090999\n",
            "7   Object_Type_Scientific Probe    0.086761\n",
            "0     Location_Lagrange Point L2    0.064111\n"
          ]
        }
      ],
      "source": [
        "# Feature Importance\n",
        "importances = best_model.feature_importances_\n",
        "feature_names = X.columns\n",
        "feature_importance_df = pd.DataFrame({'Feature': feature_names, 'Importance': importances}).sort_values(by='Importance', ascending=False)\n",
        "print(\"Feature Importances:\\n\", feature_importance_df)"
      ]
    },
    {
      "cell_type": "markdown",
      "metadata": {
        "id": "27zm-etHzCuY"
      },
      "source": [
        "Extracts and ranks feature importance from the trained model.\n",
        "\n",
        "Displays the importance of each feature."
      ]
    },
    {
      "cell_type": "code",
      "execution_count": 9,
      "metadata": {
        "colab": {
          "base_uri": "https://localhost:8080/",
          "height": 564
        },
        "id": "HVPtzT1ox9A7",
        "outputId": "25fca00e-12d1-41d0-f1c7-636b5e15561c"
      },
      "outputs": [
        {
          "output_type": "display_data",
          "data": {
            "text/plain": [
              "<Figure size 1000x600 with 1 Axes>"
            ],
            "image/png": "[encoded data removed]"
          },
          "metadata": {}
        }
      ],
      "source": [
        "# Plot Feature Importance\n",
        "plt.figure(figsize=(10, 6))\n",
        "sns.barplot(x='Importance', y='Feature', data=feature_importance_df)\n",
        "plt.title('Feature Importance')\n",
        "plt.show()"
      ]
    },
    {
      "cell_type": "markdown",
      "metadata": {
        "id": "m8Vc8NAN0dwA"
      },
      "source": [
        "##Visualization1\n"
      ]
    },
    {
      "cell_type": "code",
      "execution_count": 10,
      "metadata": {
        "colab": {
          "base_uri": "https://localhost:8080/",
          "height": 564
        },
        "id": "S-wwozdZyCzo",
        "outputId": "34467c44-39a1-4d3c-b1ce-23da2021a71d"
      },
      "outputs": [
        {
          "output_type": "display_data",
          "data": {
            "text/plain": [
              "<Figure size 800x600 with 1 Axes>"
            ],
            "image/png": "[encoded data removed]"
          },
          "metadata": {}
        }
      ],
      "source": [
        "# Visualize Predictions\n",
        "plt.figure(figsize=(8, 6))\n",
        "plt.scatter(y_test, y_pred, alpha=0.7)\n",
        "plt.xlabel('Actual Traffic Density')\n",
        "plt.ylabel('Predicted Traffic Density')\n",
        "plt.title('Actual vs Predicted Traffic Density')\n",
        "plt.show()"
      ]
    },
    {
      "cell_type": "markdown",
      "metadata": {
        "id": "ZYM7WxRAzJK7"
      },
      "source": [
        "**Visualizes:**\n",
        "\n",
        "Actual vs. predicted traffic densities (scatter plot).\n",
        "\n",
        "Feature importance (bar chart).\n",
        "\n",
        "Hyperparameter tuning results (heatmap)."
      ]
    },
    {
      "cell_type": "code",
      "execution_count": 11,
      "metadata": {
        "colab": {
          "base_uri": "https://localhost:8080/",
          "height": 564
        },
        "id": "65u3Iw-lyP3E",
        "outputId": "aedfe6d0-b0ab-40b1-9888-2c48fae907c1"
      },
      "outputs": [
        {
          "output_type": "display_data",
          "data": {
            "text/plain": [
              "<Figure size 1000x600 with 2 Axes>"
            ],
            "image/png": "[encoded data removed]"
          },
          "metadata": {}
        }
      ],
      "source": [
        "# Visualizing Hyperparameter Tuning Results\n",
        "cv_results = pd.DataFrame(grid_search.cv_results_)\n",
        "heatmap_data = cv_results.pivot_table(index='param_max_depth', columns='param_n_estimators', values='mean_test_score')\n",
        "plt.figure(figsize=(10, 6))\n",
        "sns.heatmap(heatmap_data, annot=True, cmap='viridis')\n",
        "plt.title('Grid Search Hyperparameter Tuning')\n",
        "plt.xlabel('n_estimators')\n",
        "plt.ylabel('max_depth')\n",
        "plt.show()\n"
      ]
    },
    {
      "cell_type": "code",
      "execution_count": 12,
      "metadata": {
        "colab": {
          "base_uri": "https://localhost:8080/"
        },
        "id": "ijn6y2bBySjS",
        "outputId": "034bae95-25e7-4d08-f253-fb28cf488260"
      },
      "outputs": [
        {
          "output_type": "stream",
          "name": "stdout",
          "text": [
            "Model Accuracy: -7.24%\n"
          ]
        }
      ],
      "source": [
        "accuracy = r2_score(y_test, y_pred) * 100\n",
        "print(\"Model Accuracy: {:.2f}%\".format(accuracy))\n"
      ]
    },
    {
      "cell_type": "markdown",
      "metadata": {
        "id": "RyaUePfSzSBX"
      },
      "source": [
        "Calculates model accuracy as\n",
        "𝑅\n",
        "2\n",
        "R\n",
        "2\n",
        "  score in percentage format."
      ]
    },
    {
      "cell_type": "markdown",
      "metadata": {
        "id": "MfxGsUMv02WP"
      },
      "source": [
        "# PyTorch Model"
      ]
    },
    {
      "cell_type": "markdown",
      "metadata": {
        "id": "peuxY4_706fC"
      },
      "source": [
        "##Set Up PyTorch Model"
      ]
    },
    {
      "cell_type": "code",
      "execution_count": 13,
      "metadata": {
        "colab": {
          "base_uri": "https://localhost:8080/"
        },
        "id": "nYSjZbdZ1aZk",
        "outputId": "a3b15d93-2863-42db-dd50-1e8708be05f5"
      },
      "outputs": [
        {
          "output_type": "stream",
          "name": "stdout",
          "text": [
            "Requirement already satisfied: torchvision in /usr/local/lib/python3.10/dist-packages (0.20.1+cu121)\n",
            "Requirement already satisfied: numpy in /usr/local/lib/python3.10/dist-packages (from torchvision) (1.26.4)\n",
            "Requirement already satisfied: torch==2.5.1 in /usr/local/lib/python3.10/dist-packages (from torchvision) (2.5.1+cu121)\n",
            "Requirement already satisfied: pillow!=8.3.*,>=5.3.0 in /usr/local/lib/python3.10/dist-packages (from torchvision) (11.0.0)\n",
            "Requirement already satisfied: filelock in /usr/local/lib/python3.10/dist-packages (from torch==2.5.1->torchvision) (3.16.1)\n",
            "Requirement already satisfied: typing-extensions>=4.8.0 in /usr/local/lib/python3.10/dist-packages (from torch==2.5.1->torchvision) (4.12.2)\n",
            "Requirement already satisfied: networkx in /usr/local/lib/python3.10/dist-packages (from torch==2.5.1->torchvision) (3.4.2)\n",
            "Requirement already satisfied: jinja2 in /usr/local/lib/python3.10/dist-packages (from torch==2.5.1->torchvision) (3.1.4)\n",
            "Requirement already satisfied: fsspec in /usr/local/lib/python3.10/dist-packages (from torch==2.5.1->torchvision) (2024.10.0)\n",
            "Requirement already satisfied: sympy==1.13.1 in /usr/local/lib/python3.10/dist-packages (from torch==2.5.1->torchvision) (1.13.1)\n",
            "Requirement already satisfied: mpmath<1.4,>=1.1.0 in /usr/local/lib/python3.10/dist-packages (from sympy==1.13.1->torch==2.5.1->torchvision) (1.3.0)\n",
            "Requirement already satisfied: MarkupSafe>=2.0 in /usr/local/lib/python3.10/dist-packages (from jinja2->torch==2.5.1->torchvision) (3.0.2)\n",
            "Requirement already satisfied: torch in /usr/local/lib/python3.10/dist-packages (2.5.1+cu121)\n",
            "Requirement already satisfied: filelock in /usr/local/lib/python3.10/dist-packages (from torch) (3.16.1)\n",
            "Requirement already satisfied: typing-extensions>=4.8.0 in /usr/local/lib/python3.10/dist-packages (from torch) (4.12.2)\n",
            "Requirement already satisfied: networkx in /usr/local/lib/python3.10/dist-packages (from torch) (3.4.2)\n",
            "Requirement already satisfied: jinja2 in /usr/local/lib/python3.10/dist-packages (from torch) (3.1.4)\n",
            "Requirement already satisfied: fsspec in /usr/local/lib/python3.10/dist-packages (from torch) (2024.10.0)\n",
            "Requirement already satisfied: sympy==1.13.1 in /usr/local/lib/python3.10/dist-packages (from torch) (1.13.1)\n",
            "Requirement already satisfied: mpmath<1.4,>=1.1.0 in /usr/local/lib/python3.10/dist-packages (from sympy==1.13.1->torch) (1.3.0)\n",
            "Requirement already satisfied: MarkupSafe>=2.0 in /usr/local/lib/python3.10/dist-packages (from jinja2->torch) (3.0.2)\n"
          ]
        }
      ],
      "source": [
        "!pip install torchvision\n",
        "!pip install torch"
      ]
    },
    {
      "cell_type": "code",
      "execution_count": 14,
      "metadata": {
        "id": "63E8-E011rvG"
      },
      "outputs": [],
      "source": [
        "import torch\n",
        "import torch.nn as nn\n",
        "import torch.optim as optim\n",
        "import torch.nn.functional as F\n",
        "from torch.utils.data import DataLoader, TensorDataset\n",
        "from torchvision import datasets, transforms\n",
        "from sklearn.model_selection import ParameterGrid\n",
        "import numpy as np"
      ]
    },
    {
      "cell_type": "code",
      "execution_count": 15,
      "metadata": {
        "id": "PyDt6BVGzPzx"
      },
      "outputs": [],
      "source": [
        "class SimpleNN(nn.Module):\n",
        "    def __init__(self):\n",
        "        super(SimpleNN, self).__init__()\n",
        "        self.fc1 = nn.Linear(28 * 28, 128)  # Input layer to hidden layer\n",
        "        self.fc2 = nn.Linear(128, 64)       # Hidden layer to another hidden layer\n",
        "        self.fc3 = nn.Linear(64, 10)        # Output layer (10 classes for MNIST)\n",
        "\n",
        "    def forward(self, x):\n",
        "        x = x.view(-1, 28 * 28)\n",
        "        x = F.relu(self.fc1(x))\n",
        "        x = F.relu(self.fc2(x))\n",
        "        x = self.fc3(x)\n",
        "        return x\n"
      ]
    },
    {
      "cell_type": "markdown",
      "metadata": {
        "id": "xMdoDIL11I0i"
      },
      "source": [
        "## Define Hyperparameters and Model Training"
      ]
    },
    {
      "cell_type": "code",
      "execution_count": 16,
      "metadata": {
        "id": "dNTF5rqk0xft"
      },
      "outputs": [],
      "source": [
        "def train(model, train_loader, criterion, optimizer, device):\n",
        "    model.train()\n",
        "    running_loss = 0.0\n",
        "    correct = 0\n",
        "    total = 0\n",
        "    for inputs, labels in train_loader:\n",
        "        inputs, labels = inputs.to(device), labels.to(device)\n",
        "\n",
        "        optimizer.zero_grad()   # Clear gradients before backward pass\n",
        "        outputs = model(inputs) # Forward pass\n",
        "        loss = criterion(outputs, labels) # Compute loss\n",
        "        loss.backward()         # Backward pass\n",
        "        optimizer.step()        # Update weights\n",
        "\n",
        "        running_loss += loss.item()\n",
        "        _, predicted = torch.max(outputs, 1)\n",
        "        total += labels.size(0)\n",
        "        correct += (predicted == labels).sum().item()\n",
        "\n",
        "    return running_loss / len(train_loader), 100 * correct / total\n"
      ]
    },
    {
      "cell_type": "markdown",
      "metadata": {
        "id": "uWbJN_Ge1LvU"
      },
      "source": [
        "##Hyperparameter Tuning with GridSearch"
      ]
    },
    {
      "cell_type": "code",
      "execution_count": 17,
      "metadata": {
        "id": "hdnXhLmT1fpj"
      },
      "outputs": [],
      "source": [
        "X_train_tensor = torch.tensor(X_train.values, dtype=torch.float32)\n",
        "y_train_tensor = torch.tensor(y_train.values, dtype=torch.long)\n",
        "\n",
        "train_dataset = TensorDataset(X_train_tensor, y_train_tensor)\n",
        "\n",
        "train_loader = DataLoader(train_dataset, batch_size=32, shuffle=True)\n"
      ]
    },
    {
      "cell_type": "markdown",
      "metadata": {
        "id": "UyT_gAzp2A-e"
      },
      "source": [
        "PyTorch doesn't directly support GridSearchCV, but you can implement a custom approach to perform hyperparameter tuning. Here's an example of performing a grid search for learning rate and batch size"
      ]
    },
    {
      "source": [
        "device = torch.device(\"cuda\" if torch.cuda.is_available() else \"cpu\")\n",
        "\n",
        "class SimpleNN(nn.Module):\n",
        "    def __init__(self, input_size):  # Add input_size as an argument\n",
        "        super(SimpleNN, self).__init__()\n",
        "        self.fc1 = nn.Linear(input_size, 128)  # Use input_size instead of 28 * 28\n",
        "        self.fc2 = nn.Linear(128, 64)\n",
        "        self.fc3 = nn.Linear(64, 10)\n",
        "\n",
        "    def forward(self, x):\n",
        "        # x = x.view(-1, 28 * 28)  # Remove this line (no longer needed)\n",
        "        x = F.relu(self.fc1(x))\n",
        "        x = F.relu(self.fc2(x))\n",
        "        x = self.fc3(x)\n",
        "        return x\n",
        "\n",
        "# ... (other parts of your code) ...\n",
        "\n",
        "# Instantiate your PyTorch model\n",
        "model = SimpleNN(input_size=X_train.shape[1])  # Pass the input size here\n",
        "model.to(device) # Now 'device' is defined\n",
        "\n",
        "# ... (rest of your code) ..."
      ],
      "cell_type": "code",
      "metadata": {
        "colab": {
          "base_uri": "https://localhost:8080/"
        },
        "id": "hjLWqA8aASb2",
        "outputId": "c354e432-6437-4697-e040-89699ced5c54"
      },
      "execution_count": 18,
      "outputs": [
        {
          "output_type": "execute_result",
          "data": {
            "text/plain": [
              "SimpleNN(\n",
              "  (fc1): Linear(in_features=10, out_features=128, bias=True)\n",
              "  (fc2): Linear(in_features=128, out_features=64, bias=True)\n",
              "  (fc3): Linear(in_features=64, out_features=10, bias=True)\n",
              ")"
            ]
          },
          "metadata": {},
          "execution_count": 18
        }
      ]
    },
    {
      "cell_type": "markdown",
      "metadata": {
        "id": "29SmD8964-3i"
      },
      "source": [
        "#Model Training\n"
      ]
    },
    {
      "cell_type": "markdown",
      "metadata": {
        "id": "UVhPk_hj95xR"
      },
      "source": [
        "##1 Evaluation and metrics\n",
        "\n",
        "\n",
        "\n"
      ]
    },
    {
      "source": [
        "import torch\n",
        "from sklearn.metrics import classification_report, confusion_matrix\n",
        "from torch.utils.data import DataLoader, TensorDataset\n",
        "\n",
        "X_test_tensor = torch.tensor(X_test.values, dtype=torch.float32)\n",
        "y_test_tensor = torch.tensor(y_test.values, dtype=torch.long)\n",
        "\n",
        "test_dataset = TensorDataset(X_test_tensor, y_test_tensor)\n",
        "test_loader = DataLoader(test_dataset, batch_size=32, shuffle=False)\n",
        "\n",
        "y_true = []\n",
        "y_pred = []\n",
        "\n",
        "model.eval()\n",
        "\n",
        "with torch.no_grad():\n",
        "    for inputs, labels in test_loader:\n",
        "\n",
        "        inputs, labels = inputs.to(device), labels.to(device)\n",
        "\n",
        "        outputs = model(inputs)\n",
        "        _, predicted = torch.max(outputs, 1)\n",
        "\n",
        "        y_true.extend(labels.cpu().numpy())\n",
        "        y_pred.extend(predicted.cpu().numpy())\n",
        "\n",
        "print(classification_report(y_true, y_pred))\n",
        "print(confusion_matrix(y_true, y_pred))"
      ],
      "cell_type": "code",
      "metadata": {
        "colab": {
          "base_uri": "https://localhost:8080/"
        },
        "id": "8Pwp62h9Agh0",
        "outputId": "2006c494-9b55-4df8-d78d-383a6dcb1e43"
      },
      "execution_count": 19,
      "outputs": [
        {
          "output_type": "stream",
          "name": "stdout",
          "text": [
            "              precision    recall  f1-score   support\n",
            "\n",
            "           0       0.00      0.00      0.00       0.0\n",
            "           1       0.00      0.00      0.00       1.0\n",
            "           2       0.00      0.00      0.00       2.0\n",
            "           3       0.00      0.00      0.00       1.0\n",
            "           4       0.00      0.00      0.00       1.0\n",
            "           5       0.00      0.00      0.00       1.0\n",
            "           6       0.00      0.00      0.00       2.0\n",
            "           7       0.00      0.00      0.00       1.0\n",
            "           8       0.00      0.00      0.00       3.0\n",
            "          10       0.00      0.00      0.00       2.0\n",
            "          11       0.00      0.00      0.00       1.0\n",
            "          12       0.00      0.00      0.00       4.0\n",
            "          13       0.00      0.00      0.00       1.0\n",
            "          14       0.00      0.00      0.00       2.0\n",
            "          15       0.00      0.00      0.00       2.0\n",
            "          16       0.00      0.00      0.00       2.0\n",
            "          17       0.00      0.00      0.00       3.0\n",
            "          18       0.00      0.00      0.00       2.0\n",
            "          19       0.00      0.00      0.00       4.0\n",
            "          20       0.00      0.00      0.00       3.0\n",
            "          21       0.00      0.00      0.00       5.0\n",
            "          22       0.00      0.00      0.00       2.0\n",
            "          24       0.00      0.00      0.00       1.0\n",
            "          25       0.00      0.00      0.00       7.0\n",
            "          26       0.00      0.00      0.00       6.0\n",
            "          27       0.00      0.00      0.00       2.0\n",
            "          28       0.00      0.00      0.00       3.0\n",
            "          29       0.00      0.00      0.00       4.0\n",
            "          30       0.00      0.00      0.00       2.0\n",
            "          31       0.00      0.00      0.00       1.0\n",
            "          32       0.00      0.00      0.00       1.0\n",
            "          33       0.00      0.00      0.00       1.0\n",
            "          34       0.00      0.00      0.00       1.0\n",
            "          35       0.00      0.00      0.00       5.0\n",
            "          36       0.00      0.00      0.00       2.0\n",
            "          37       0.00      0.00      0.00       2.0\n",
            "          38       0.00      0.00      0.00       2.0\n",
            "          39       0.00      0.00      0.00       2.0\n",
            "          40       0.00      0.00      0.00       2.0\n",
            "          41       0.00      0.00      0.00       3.0\n",
            "          42       0.00      0.00      0.00       2.0\n",
            "          43       0.00      0.00      0.00       3.0\n",
            "          44       0.00      0.00      0.00       3.0\n",
            "          45       0.00      0.00      0.00       3.0\n",
            "          46       0.00      0.00      0.00       1.0\n",
            "          47       0.00      0.00      0.00       3.0\n",
            "          48       0.00      0.00      0.00       1.0\n",
            "          50       0.00      0.00      0.00       2.0\n",
            "          51       0.00      0.00      0.00       1.0\n",
            "          52       0.00      0.00      0.00       3.0\n",
            "          54       0.00      0.00      0.00       2.0\n",
            "          55       0.00      0.00      0.00       2.0\n",
            "          56       0.00      0.00      0.00       1.0\n",
            "          57       0.00      0.00      0.00       1.0\n",
            "          58       0.00      0.00      0.00       3.0\n",
            "          59       0.00      0.00      0.00       2.0\n",
            "          60       0.00      0.00      0.00       1.0\n",
            "          61       0.00      0.00      0.00       3.0\n",
            "          63       0.00      0.00      0.00       3.0\n",
            "          64       0.00      0.00      0.00       3.0\n",
            "          65       0.00      0.00      0.00       1.0\n",
            "          66       0.00      0.00      0.00       3.0\n",
            "          67       0.00      0.00      0.00       4.0\n",
            "          68       0.00      0.00      0.00       1.0\n",
            "          69       0.00      0.00      0.00       1.0\n",
            "          70       0.00      0.00      0.00       1.0\n",
            "          72       0.00      0.00      0.00       1.0\n",
            "          73       0.00      0.00      0.00       1.0\n",
            "          74       0.00      0.00      0.00       2.0\n",
            "          76       0.00      0.00      0.00       2.0\n",
            "          77       0.00      0.00      0.00       2.0\n",
            "          79       0.00      0.00      0.00       3.0\n",
            "          80       0.00      0.00      0.00       2.0\n",
            "          81       0.00      0.00      0.00       2.0\n",
            "          83       0.00      0.00      0.00       4.0\n",
            "          84       0.00      0.00      0.00       3.0\n",
            "          85       0.00      0.00      0.00       4.0\n",
            "          86       0.00      0.00      0.00       6.0\n",
            "          87       0.00      0.00      0.00       1.0\n",
            "          88       0.00      0.00      0.00       1.0\n",
            "          89       0.00      0.00      0.00       2.0\n",
            "          91       0.00      0.00      0.00       2.0\n",
            "          93       0.00      0.00      0.00       3.0\n",
            "          95       0.00      0.00      0.00       2.0\n",
            "          96       0.00      0.00      0.00       2.0\n",
            "          97       0.00      0.00      0.00       3.0\n",
            "          98       0.00      0.00      0.00       3.0\n",
            "          99       0.00      0.00      0.00       1.0\n",
            "         100       0.00      0.00      0.00       2.0\n",
            "\n",
            "    accuracy                           0.00     200.0\n",
            "   macro avg       0.00      0.00      0.00     200.0\n",
            "weighted avg       0.00      0.00      0.00     200.0\n",
            "\n",
            "[[0 0 0 ... 0 0 0]\n",
            " [0 0 0 ... 0 0 0]\n",
            " [1 0 0 ... 0 0 0]\n",
            " ...\n",
            " [1 0 0 ... 0 0 0]\n",
            " [0 0 0 ... 0 0 0]\n",
            " [0 0 0 ... 0 0 0]]\n"
          ]
        }
      ]
    },
    {
      "cell_type": "markdown",
      "metadata": {
        "id": "vZ0bDI_g5nOJ"
      },
      "source": [
        "**model.eval():** Puts the model in evaluation mode (disables dropout, batch normalization).\n",
        "\n",
        "**with torch.no_grad():** Disables gradient computation for inference (saves memory and computation).\n",
        "\n",
        "**torch.max(outputs, 1):** Returns the predicted labels based on the highest score from the model's output."
      ]
    },
    {
      "cell_type": "markdown",
      "metadata": {
        "id": "mawOwOAV54N0"
      },
      "source": [
        "##2 Model Saving and Loading\n"
      ]
    },
    {
      "cell_type": "code",
      "execution_count": 20,
      "metadata": {
        "id": "rnKaRE3Y5BRZ"
      },
      "outputs": [],
      "source": [
        "torch.save(model.state_dict(), 'model_weights.pth')\n",
        "torch.save(model, 'full_model.pth')\n"
      ]
    },
    {
      "cell_type": "code",
      "execution_count": 21,
      "metadata": {
        "colab": {
          "base_uri": "https://localhost:8080/"
        },
        "id": "j7AZPJKp5dtS",
        "outputId": "e71e61a9-f542-4b07-fcd9-d25142372da9"
      },
      "outputs": [
        {
          "output_type": "execute_result",
          "data": {
            "text/plain": [
              "SimpleNN(\n",
              "  (fc1): Linear(in_features=10, out_features=128, bias=True)\n",
              "  (fc2): Linear(in_features=128, out_features=64, bias=True)\n",
              "  (fc3): Linear(in_features=64, out_features=10, bias=True)\n",
              ")"
            ]
          },
          "metadata": {},
          "execution_count": 21
        }
      ],
      "source": [
        "model.load_state_dict(torch.load('model_weights.pth'))\n",
        "model.eval()\n"
      ]
    },
    {
      "cell_type": "markdown",
      "metadata": {
        "id": "cJjOz2I76BPP"
      },
      "source": [
        "##3 Model Optimization"
      ]
    },
    {
      "cell_type": "code",
      "execution_count": 22,
      "metadata": {
        "colab": {
          "base_uri": "https://localhost:8080/"
        },
        "id": "gIp642oK5fSk",
        "outputId": "8994443a-a0a8-4767-9be8-041bff058083"
      },
      "outputs": [
        {
          "output_type": "execute_result",
          "data": {
            "text/plain": [
              "tensor(0.)"
            ]
          },
          "metadata": {},
          "execution_count": 22
        }
      ],
      "source": [
        "torch.nn.utils.clip_grad_norm_(model.parameters(), max_norm=1.0)\n"
      ]
    },
    {
      "cell_type": "markdown",
      "metadata": {
        "id": "StqdiFSu6IJw"
      },
      "source": [
        "Gradient Clipping: To prevent exploding gradients, you can use gradient clipping during training."
      ]
    },
    {
      "cell_type": "code",
      "execution_count": 23,
      "metadata": {
        "colab": {
          "base_uri": "https://localhost:8080/"
        },
        "id": "99fNzyQ06JvD",
        "outputId": "4469c525-addf-4688-f4e1-68c64c94e961"
      },
      "outputs": [
        {
          "output_type": "execute_result",
          "data": {
            "text/plain": [
              "SimpleNN(\n",
              "  (fc1): Linear(in_features=10, out_features=128, bias=True)\n",
              "  (fc2): Linear(in_features=128, out_features=64, bias=True)\n",
              "  (fc3): Linear(in_features=64, out_features=10, bias=True)\n",
              ")"
            ]
          },
          "metadata": {},
          "execution_count": 23
        }
      ],
      "source": [
        "def init_weights(m):\n",
        "    if isinstance(m, nn.Linear):\n",
        "        nn.init.xavier_uniform_(m.weight)\n",
        "        nn.init.zeros_(m.bias)\n",
        "\n",
        "model.apply(init_weights)\n"
      ]
    },
    {
      "cell_type": "markdown",
      "metadata": {
        "id": "qqVhp0op6lQ9"
      },
      "source": [
        "Weight Initialization: Use specific weight initialization methods to improve convergence."
      ]
    },
    {
      "cell_type": "markdown",
      "metadata": {
        "id": "gMsakJuK6n44"
      },
      "source": [
        "##4 Transfer Learning"
      ]
    },
    {
      "source": [
        "from torchvision import models\n",
        "\n",
        "num_classes = 10\n",
        "\n",
        "model = models.resnet18(pretrained=True)\n",
        "\n",
        "for param in model.parameters():\n",
        "    param.requires_grad = False\n",
        "\n",
        "model.fc = nn.Linear(model.fc.in_features, num_classes)"
      ],
      "cell_type": "code",
      "metadata": {
        "id": "e02Qv1iAA-Xx"
      },
      "execution_count": 24,
      "outputs": []
    },
    {
      "cell_type": "markdown",
      "metadata": {
        "id": "qLZqUllb7Bp8"
      },
      "source": [
        "Transfer Learning allows you to fine-tune pre-trained models on your specific task. PyTorch provides models like ResNet, VGG, BERT, etc., that can be used as feature extractors or fine-tuned for your specific application."
      ]
    },
    {
      "cell_type": "markdown",
      "metadata": {
        "id": "naY_TBo47G_D"
      },
      "source": [
        "##5 Model Pruning\n"
      ]
    },
    {
      "source": [
        "from torchvision import models\n",
        "import torch.nn.utils.prune as prune\n",
        "\n",
        "num_classes = 10\n",
        "\n",
        "model = models.resnet18(pretrained=True)\n",
        "\n",
        "for param in model.parameters():\n",
        "    param.requires_grad = False\n",
        "\n",
        "model.fc = nn.Linear(model.fc.in_features, num_classes)\n",
        "\n",
        "prune.random_unstructured(model.fc, name=\"weight\", amount=0.3)\n",
        "\n",
        "print(model.fc)\n"
      ],
      "cell_type": "code",
      "metadata": {
        "colab": {
          "base_uri": "https://localhost:8080/"
        },
        "id": "OMl7O9yEBQBd",
        "outputId": "7dc12301-6d9b-4610-a17b-3282ff207607"
      },
      "execution_count": 25,
      "outputs": [
        {
          "output_type": "stream",
          "name": "stdout",
          "text": [
            "Linear(in_features=512, out_features=10, bias=True)\n"
          ]
        }
      ]
    },
    {
      "cell_type": "markdown",
      "metadata": {
        "id": "6NPMAnbc7XPS"
      },
      "source": [
        "Pruning: The prune.random_unstructured() function applies random pruning to the weights of the layer.\n",
        "\n",
        "The argument amount=0.3 specifies that 30% of the weights will be pruned.\n",
        "\n",
        "Model Layer: The correct layer name for the fully connected layer in ResNet is model.fc, not model.fc1."
      ]
    },
    {
      "cell_type": "markdown",
      "metadata": {
        "id": "bx_58S-X7iSt"
      },
      "source": [
        "##6 Distributed Training"
      ]
    },
    {
      "cell_type": "code",
      "execution_count": 26,
      "metadata": {
        "id": "pg9DI8Pf7J8p"
      },
      "outputs": [],
      "source": [
        "model = nn.DataParallel(model)\n"
      ]
    },
    {
      "cell_type": "markdown",
      "metadata": {
        "id": "YeGukFQZ7lAD"
      },
      "source": [
        "Use torch.nn.DataParallel for multi-GPU training or torch.distributed for more advanced distributed setups."
      ]
    },
    {
      "cell_type": "markdown",
      "metadata": {
        "id": "cVPbt5CK7pQh"
      },
      "source": [
        "##7 TensorBoard for Visualization"
      ]
    },
    {
      "cell_type": "code",
      "execution_count": 27,
      "metadata": {
        "colab": {
          "base_uri": "https://localhost:8080/"
        },
        "id": "m52Xc2_l7hxD",
        "outputId": "ac829e83-ba79-4fb8-80ad-de4391d1ebc9"
      },
      "outputs": [
        {
          "output_type": "stream",
          "name": "stdout",
          "text": [
            "Files already downloaded and verified\n",
            "torch.Size([32, 3, 224, 224])\n"
          ]
        }
      ],
      "source": [
        "import torchvision.transforms as transforms\n",
        "from torch.utils.data import DataLoader\n",
        "from torchvision import datasets\n",
        "\n",
        "transform = transforms.Compose([\n",
        "    transforms.Resize((224, 224)),\n",
        "    transforms.ToTensor(),\n",
        "    transforms.Normalize(mean=[0.485, 0.456, 0.406], std=[0.229, 0.224, 0.225])  # Normalization for ResNet\n",
        "])\n",
        "\n",
        "train_dataset = datasets.CIFAR10(root='./data', train=True, download=True, transform=transform)\n",
        "train_loader = DataLoader(train_dataset, batch_size=32, shuffle=True)\n",
        "\n",
        "for inputs, labels in train_loader:\n",
        "    print(inputs.shape)\n",
        "    break\n"
      ]
    },
    {
      "source": [
        "from torch.utils.tensorboard import SummaryWriter\n",
        "\n",
        "writer = SummaryWriter()\n",
        "\n",
        "num_epochs = 10\n",
        "\n",
        "for epoch in range(num_epochs):\n",
        "    loss = 0.5\n",
        "    accuracy = 0.8\n",
        "\n",
        "    writer.add_scalar('Loss/train', loss, epoch)\n",
        "    writer.add_scalar('Accuracy/train', accuracy, epoch)\n",
        "writer.close()"
      ],
      "cell_type": "code",
      "metadata": {
        "id": "P9N4sKiUBmcV"
      },
      "execution_count": 28,
      "outputs": []
    },
    {
      "cell_type": "markdown",
      "metadata": {
        "id": "p5PYnza385z3"
      },
      "source": [
        "##8 Deployment and Inference"
      ]
    },
    {
      "source": [
        "input_shape = (1, 3, 224, 224)  # Define the input shape\n",
        "input_data = torch.randn(input_shape)\n",
        "\n",
        "model.eval()\n",
        "\n",
        "with torch.no_grad():\n",
        "    outputs = model(input_data)"
      ],
      "cell_type": "code",
      "metadata": {
        "id": "NVyIC0aQakUK"
      },
      "execution_count": 31,
      "outputs": []
    },
    {
      "cell_type": "markdown",
      "metadata": {
        "id": "6ynMTDGO9WSa"
      },
      "source": [
        "Inference: After training, you can perform inference on new data. Set the model to evaluation mode (model.eval()) to turn off features like dropout or batch normalization.\n",
        "\n",
        "python\n",
        "Copy code\n"
      ]
    },
    {
      "source": [
        "example_input = torch.randn(1, 3, 224, 224).to(device)\n",
        "traced_model = torch.jit.trace(model, example_input)\n",
        "traced_model.save('model_traced.pt')"
      ],
      "cell_type": "code",
      "metadata": {
        "id": "RBUdmVaOB-Al"
      },
      "execution_count": 32,
      "outputs": []
    },
    {
      "cell_type": "markdown",
      "metadata": {
        "id": "POYDqLgZ9iB9"
      },
      "source": [
        "##9 Quantization\n"
      ]
    },
    {
      "cell_type": "code",
      "execution_count": 33,
      "metadata": {
        "id": "Qt7UxKbS9dXV"
      },
      "outputs": [],
      "source": [
        "model = torch.quantization.quantize_dynamic(model, {nn.Linear}, dtype=torch.qint8)\n"
      ]
    },
    {
      "cell_type": "markdown",
      "metadata": {
        "id": "GnxDBptz9pzG"
      },
      "source": [
        "Quantization can reduce model size and improve inference speed, particularly on edge devices like mobile phones or IoT devices. You can quantize a model in PyTorch using either post-training quantization or quantization-aware training."
      ]
    },
    {
      "cell_type": "markdown",
      "metadata": {
        "id": "mFRA2h1K9tG5"
      },
      "source": [
        "##10 Custom Loss Functions and Optimizers"
      ]
    },
    {
      "cell_type": "code",
      "execution_count": 34,
      "metadata": {
        "id": "-QV3l0Pu9mxc"
      },
      "outputs": [],
      "source": [
        "class CustomLoss(nn.Module):\n",
        "    def __init__(self):\n",
        "        super(CustomLoss, self).__init__()\n",
        "    def forward(self, output, target):\n",
        "        return torch.mean(torch.abs(output - target))\n"
      ]
    },
    {
      "cell_type": "markdown",
      "metadata": {
        "id": "qMBToW0z-VoK"
      },
      "source": [
        "# Development Phase"
      ]
    },
    {
      "cell_type": "markdown",
      "metadata": {
        "id": "hDEs_-Id_z4w"
      },
      "source": [
        "##Model Evaluation:"
      ]
    },
    {
      "source": [
        "input_data = torch.randn(1, 10)\n",
        "\n",
        "model = SimpleNN(input_size=10)\n",
        "model.load_state_dict(torch.load('model_weights.pth'))\n",
        "\n",
        "model.eval()\n",
        "with torch.no_grad():\n",
        "    outputs = model(input_data)\n"
      ],
      "cell_type": "code",
      "metadata": {
        "id": "jswje6mkCjku"
      },
      "execution_count": 35,
      "outputs": []
    },
    {
      "cell_type": "markdown",
      "metadata": {
        "id": "p8rTPysyA1cO"
      },
      "source": [
        "Model Evaluation:\n",
        "\n",
        "After training, it's crucial to evaluate the model's performance on a separate validation or test dataset.\n",
        "\n",
        "This allows you to understand how well your model generalizes to new, unseen data.\n",
        "\n",
        "Key metrics you might evaluate include accuracy, precision, recall, F1-score, confusion matrix, etc."
      ]
    },
    {
      "cell_type": "markdown",
      "metadata": {
        "id": "GSiNp3UYAjtA"
      },
      "source": [
        "##Hyperparameter Tuning:"
      ]
    },
    {
      "cell_type": "code",
      "execution_count": 36,
      "metadata": {
        "id": "Ua4rSVzuAejN"
      },
      "outputs": [],
      "source": [
        "class PyTorchModelWrapper:\n",
        "    def __init__(self, model, criterion, optimizer):\n",
        "        self.model = model\n",
        "        self.criterion = criterion\n",
        "        self.optimizer = optimizer\n",
        "\n",
        "    def fit(self, X, y):\n",
        "        pass\n",
        "\n",
        "    def predict(self, X):\n",
        "        pass\n",
        "\n",
        "    def score(self, X, y):\n",
        "\n",
        "        self.model.eval()\n",
        "        with torch.no_grad():\n",
        "            X_tensor = torch.tensor(X, dtype=torch.float32)\n",
        "            outputs = self.model(X_tensor)\n",
        "            _, predicted = torch.max(outputs, 1)\n",
        "            accuracy = (predicted == y).sum().item() / len(y)\n",
        "        return accuracy"
      ]
    },
    {
      "cell_type": "markdown",
      "metadata": {
        "id": "GdZ5A0f9A6nb"
      },
      "source": [
        "After training, you might fine-tune hyperparameters like learning rate, batch size, etc.\n",
        "\n",
        "Use grid search or random search to identify the best set of hyperparameters that maximize the model's performance."
      ]
    },
    {
      "cell_type": "markdown",
      "metadata": {
        "id": "V4PnnWTAAnSp"
      },
      "source": [
        "##Model Regularization:"
      ]
    },
    {
      "cell_type": "code",
      "execution_count": 37,
      "metadata": {
        "id": "PG5cqAr4AXCu"
      },
      "outputs": [],
      "source": [
        "\n",
        "class CustomModel(nn.Module):\n",
        "    def __init__(self):\n",
        "        super(CustomModel, self).__init__()\n",
        "        self.fc = nn.Linear(128, 10)\n",
        "        self.dropout = nn.Dropout(0.5)\n",
        "\n",
        "    def forward(self, x):\n",
        "        x = self.fc(x)\n",
        "        x = self.dropout(x)\n",
        "        return x\n"
      ]
    },
    {
      "cell_type": "markdown",
      "metadata": {
        "id": "oDn7ijhRBF8X"
      },
      "source": [
        "Regularization techniques like dropout, weight decay, or batch normalization help reduce overfitting.\n",
        "\n",
        "You can also prune or quantize your model to improve efficiency"
      ]
    },
    {
      "cell_type": "markdown",
      "metadata": {
        "id": "uxJmRwxrAvxy"
      },
      "source": [
        "# Deployment Phase"
      ]
    },
    {
      "cell_type": "markdown",
      "metadata": {
        "id": "5QHBfvq7BJZ5"
      },
      "source": [
        "##Model Exporting:"
      ]
    },
    {
      "cell_type": "code",
      "execution_count": 38,
      "metadata": {
        "id": "U5p8R_2wAw4P"
      },
      "outputs": [],
      "source": [
        "scripted_model = torch.jit.script(model)\n",
        "scripted_model.save('model_scripted.pt')\n"
      ]
    },
    {
      "cell_type": "markdown",
      "metadata": {
        "id": "EMq1cTePBXCg"
      },
      "source": [
        "Convert the trained model to a format suitable for deployment"
      ]
    },
    {
      "cell_type": "markdown",
      "metadata": {
        "id": "JrE8UEEVBYw0"
      },
      "source": [
        "##Creating an API for Model Serving:"
      ]
    },
    {
      "cell_type": "code",
      "execution_count": 39,
      "metadata": {
        "colab": {
          "base_uri": "https://localhost:8080/"
        },
        "id": "5KcJHCICED1J",
        "outputId": "e0c4b9b9-02ea-49c5-c09c-8b5bf0f761f6"
      },
      "outputs": [
        {
          "output_type": "execute_result",
          "data": {
            "text/plain": [
              "<All keys matched successfully>"
            ]
          },
          "metadata": {},
          "execution_count": 39
        }
      ],
      "source": [
        "model = SimpleNN(input_size=10)\n",
        "\n",
        "model.load_state_dict(torch.load('model_weights.pth'))"
      ]
    },
    {
      "cell_type": "code",
      "source": [
        "torch.save(model.state_dict(), 'model.pth')\n"
      ],
      "metadata": {
        "id": "qKSZyuGdEjT2"
      },
      "execution_count": 40,
      "outputs": []
    },
    {
      "cell_type": "markdown",
      "source": [
        "#Grid Search in PyTorch"
      ],
      "metadata": {
        "id": "5q26whA9dFWE"
      }
    },
    {
      "cell_type": "markdown",
      "source": [
        "## Imports and Model Definition"
      ],
      "metadata": {
        "id": "fkY-qctWdLCX"
      }
    },
    {
      "cell_type": "code",
      "source": [
        "import torch\n",
        "import torch.nn as nn\n",
        "import torch.optim as optim\n",
        "from torch.utils.data import DataLoader, TensorDataset\n",
        "from sklearn.model_selection import train_test_split\n",
        "from sklearn.metrics import accuracy_score\n",
        "import numpy as np\n",
        "\n",
        "# Define a simple neural network for binary classification\n",
        "class SimpleNN(nn.Module):\n",
        "    def __init__(self, input_size, hidden_size, output_size):\n",
        "        super(SimpleNN, self).__init__()\n",
        "        self.fc1 = nn.Linear(input_size, hidden_size)\n",
        "        self.fc2 = nn.Linear(hidden_size, output_size)\n",
        "\n",
        "    def forward(self, x):\n",
        "        x = torch.relu(self.fc1(x))\n",
        "        x = self.fc2(x)\n",
        "        return x\n"
      ],
      "metadata": {
        "id": "eO7B_aKNbeK6"
      },
      "execution_count": 49,
      "outputs": []
    },
    {
      "cell_type": "markdown",
      "source": [
        "**Model Definition:** A simple neural network (SimpleNN) with two fully connected layers is defined. The model takes input_size (number of input features), hidden_size (number of neurons in the hidden layer), and output_size (number of output classes, in this case, 2 for binary classification)."
      ],
      "metadata": {
        "id": "L9_bn4tVdQ3p"
      }
    },
    {
      "cell_type": "markdown",
      "source": [
        "##Data Generation and Preprocessing"
      ],
      "metadata": {
        "id": "JYFTu8sIdWz3"
      }
    },
    {
      "cell_type": "code",
      "source": [
        "X = np.random.rand(1000, 20)\n",
        "y = np.random.randint(0, 2, size=(1000,))\n",
        "\n",
        "X_train, X_val, y_train, y_val = train_test_split(X, y, test_size=0.2)\n",
        "\n",
        "train_data = TensorDataset(torch.tensor(X_train, dtype=torch.float32), torch.tensor(y_train, dtype=torch.long))\n",
        "val_data = TensorDataset(torch.tensor(X_val, dtype=torch.float32), torch.tensor(y_val, dtype=torch.long))\n"
      ],
      "metadata": {
        "id": "VcgZYoUkdNuM"
      },
      "execution_count": 51,
      "outputs": []
    },
    {
      "cell_type": "markdown",
      "source": [
        "**Data Generation:** Generates random data with 1000 samples, each having 20 features. The labels are binary (0 or 1).\n",
        "\n",
        "**Data Splitting:** The data is split into training and validation sets (80% for training, 20% for validation).\n",
        "\n",
        "**Tensor Conversion:** The data is converted into PyTorch tensors, which are wrapped into TensorDataset for easy handling in the DataLoader."
      ],
      "metadata": {
        "id": "y0hYa2v2ecU2"
      }
    },
    {
      "cell_type": "markdown",
      "source": [
        "##Hyperparameter Grid Definition"
      ],
      "metadata": {
        "id": "d37bLz2-ekb0"
      }
    },
    {
      "cell_type": "code",
      "source": [
        "# Hyperparameters grid\n",
        "param_grid = {\n",
        "    'learning_rate': [0.001, 0.01],\n",
        "    'batch_size': [32, 64],\n",
        "    'hidden_size': [50, 100],\n",
        "    'optimizer': [optim.SGD, optim.Adam],\n",
        "}\n"
      ],
      "metadata": {
        "id": "4txb8QPedY7Y"
      },
      "execution_count": 52,
      "outputs": []
    },
    {
      "cell_type": "markdown",
      "source": [
        "**Hyperparameters:** A dictionary param_grid defines the hyperparameters to tune. These include the learning rate, batch size, hidden layer size, and optimizer type."
      ],
      "metadata": {
        "id": "ta2ixu5vequ8"
      }
    },
    {
      "cell_type": "markdown",
      "source": [
        "##Grid Search and Model Training"
      ],
      "metadata": {
        "id": "FGL3dZTuevhq"
      }
    },
    {
      "cell_type": "code",
      "source": [
        "best_accuracy = 0\n",
        "best_params = {}\n",
        "\n",
        "for lr in param_grid['learning_rate']:\n",
        "    for batch_size in param_grid['batch_size']:\n",
        "        for hidden_size in param_grid['hidden_size']:\n",
        "            for optimizer_type in param_grid['optimizer']:\n",
        "\n",
        "                train_loader = DataLoader(train_data, batch_size=batch_size, shuffle=True)\n",
        "                val_loader = DataLoader(val_data, batch_size=batch_size, shuffle=False)\n",
        "\n",
        "                model = SimpleNN(input_size=20, hidden_size=hidden_size, output_size=2)\n",
        "                criterion = nn.CrossEntropyLoss()\n",
        "                optimizer = optimizer_type(model.parameters(), lr=lr)\n",
        "\n",
        "                for epoch in range(5):\n",
        "                    model.train()\n",
        "                    for data, target in train_loader:\n",
        "                        optimizer.zero_grad()\n",
        "                        output = model(data)\n",
        "                        loss = criterion(output, target)\n",
        "                        loss.backward()\n",
        "                        optimizer.step()\n"
      ],
      "metadata": {
        "id": "54S51WQMeoyX"
      },
      "execution_count": 54,
      "outputs": []
    },
    {
      "cell_type": "markdown",
      "source": [
        "##Model Evaluation on Validation Set"
      ],
      "metadata": {
        "id": "wyNG7bqLe8fO"
      }
    },
    {
      "cell_type": "code",
      "source": [
        "                     model.eval()\n",
        "                all_preds = []\n",
        "                all_labels = []\n",
        "                with torch.no_grad():\n",
        "                    for data, target in val_loader:\n",
        "                        output = model(data)\n",
        "                        _, preds = torch.max(output, 1)\n",
        "                        all_preds.extend(preds.cpu().numpy())\n",
        "                        all_labels.extend(target.cpu().numpy())\n",
        "\n",
        "                accuracy = accuracy_score(all_labels, all_preds)\n",
        "                print(f\"LR: {lr}, Batch Size: {batch_size}, Hidden Size: {hidden_size}, Optimizer: {optimizer_type.__name__}, Accuracy: {accuracy:.4f}\")\n"
      ],
      "metadata": {
        "colab": {
          "base_uri": "https://localhost:8080/"
        },
        "id": "D4tel1vbeyK8",
        "outputId": "108dc34b-5805-497f-de46-bfb31dc5b426"
      },
      "execution_count": 55,
      "outputs": [
        {
          "output_type": "stream",
          "name": "stdout",
          "text": [
            "LR: 0.01, Batch Size: 64, Hidden Size: 100, Optimizer: Adam, Accuracy: 0.5350\n"
          ]
        }
      ]
    },
    {
      "cell_type": "markdown",
      "source": [
        "**Model Evaluation:** After training, the model is evaluated on the validation set using model.eval().\n",
        "\n",
        "**Prediction and Accuracy:** Predictions are made, and accuracy is calculated using accuracy_score from Scikit-learn."
      ],
      "metadata": {
        "id": "EPd67v1UfKl5"
      }
    },
    {
      "cell_type": "markdown",
      "source": [
        "##Tracking Best Hyperparameters"
      ],
      "metadata": {
        "id": "Mbulsc7GfO5l"
      }
    },
    {
      "cell_type": "code",
      "source": [
        "                # Update best parameters if current combination yields better accuracy\n",
        "                if accuracy > best_accuracy:\n",
        "                    best_accuracy = accuracy\n",
        "                    best_params = {\n",
        "                        'learning_rate': lr,\n",
        "                        'batch_size': batch_size,\n",
        "                        'hidden_size': hidden_size,\n",
        "                        'optimizer': optimizer_type.__name__,\n",
        "                    }\n",
        "\n",
        "# Print best parameters and accuracy\n",
        "print(\"Best Hyperparameters:\", best_params)\n",
        "print(\"Best Accuracy:\", best_accuracy)\n"
      ],
      "metadata": {
        "colab": {
          "base_uri": "https://localhost:8080/"
        },
        "id": "eNCvgZbfe-e-",
        "outputId": "14de6743-6e9f-4137-8d86-6fea5243b4fd"
      },
      "execution_count": 56,
      "outputs": [
        {
          "output_type": "stream",
          "name": "stdout",
          "text": [
            "Best Hyperparameters: {'learning_rate': 0.01, 'batch_size': 64, 'hidden_size': 100, 'optimizer': 'Adam'}\n",
            "Best Accuracy: 0.535\n"
          ]
        }
      ]
    },
    {
      "cell_type": "markdown",
      "source": [
        "**Track Best Parameters:** After evaluating each combination, the hyperparameters that resulted in the best accuracy are saved.\n",
        "\n",
        "**Best Parameters:** At the end of the grid search, the best hyperparameters and their corresponding accuracy are printed."
      ],
      "metadata": {
        "id": "YlBeeqgyfT4c"
      }
    },
    {
      "cell_type": "code",
      "source": [],
      "metadata": {
        "id": "ZwYl1tX-fRM_"
      },
      "execution_count": null,
      "outputs": []
    }
  ],
  "metadata": {
    "colab": {
      "toc_visible": true,
      "provenance": []
    },
    "kernelspec": {
      "display_name": "Python 3",
      "name": "python3"
    },
    "language_info": {
      "name": "python"
    }
  },
  "nbformat": 4,
  "nbformat_minor": 0
}